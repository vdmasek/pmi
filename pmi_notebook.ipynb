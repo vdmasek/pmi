{
 "cells": [
  {
   "cell_type": "code",
   "execution_count": 158,
   "metadata": {},
   "outputs": [
    {
     "data": {
      "text/plain": [
       "datetime.datetime(2015, 8, 10, 0, 0)"
      ]
     },
     "execution_count": 158,
     "metadata": {},
     "output_type": "execute_result"
    }
   ],
   "source": [
    "import json\n",
    "from datetime import datetime\n",
    "import pandas as pd\n",
    "\n",
    "# importing the csv data about the store sales, 906 stores with 11936 timestamps.\n",
    "raw_csv = pd.read_csv('sales_granular.csv', index_col=0)\n",
    "\n",
    "# importing the surroundings information about some 546 stores, each with 89 possible types of surroundings.\n",
    "raw = json.load(open('Surroundings.json'))\n",
    "\n",
    "\n",
    "# manual inspection of JSON file by writing a single item in the list to disk.\n",
    "with open('extract.json', 'w') as outfile:\n",
    "    json.dump(raw[0], outfile)\n",
    "\n",
    "\n",
    "\n",
    "\n"
   ]
  },
  {
   "cell_type": "code",
   "execution_count": 160,
   "metadata": {},
   "outputs": [
    {
     "data": {
      "text/plain": [
       "8"
      ]
     },
     "execution_count": 160,
     "metadata": {},
     "output_type": "execute_result"
    }
   ],
   "source": [
    "## important step for analysis is to group the sales per office in a monthly group\n",
    "\n",
    "class StoreSalesMonth():\n",
    "    \n",
    "    def __init__(self):\n",
    "        \n",
    "        # timestamp property\n",
    "        self.timestamp_components_number = 0        \n",
    "        self.timestamp_component_sales_array = []\n",
    "        \n",
    "        # date property\n",
    "        self.current_month = 0\n",
    "        self.current_date_string = ''\n",
    "        self.current_date_datetime = None\n",
    "        \n",
    "    def TotalMonthlySales(self):\n",
    "        return sum(self.timestamp_component_sales_array)\n",
    "        \n",
    "\n",
    "store_sales_array = []\n",
    "        \n",
    "\n",
    "# first get the column names\n",
    "atomic_timestamps = list(raw_csv)\n",
    "\n",
    "current_month = None\n",
    "timestamp_count\n",
    "\n",
    "# instanciate StoreSalesMonth object\n",
    "store_monthly_sales_obj = StoreSalesMonth()\n",
    "\n",
    "# currently working with a single store (the first one!)\n",
    "for idx, raw_date in enumerate(atomic_timestamps[0]):\n",
    "\n",
    "    space_idx = raw_date.find(' ')\n",
    "        \n",
    "    store_monthly_sales_obj.current_date_string = raw_date[:space_idx]\n",
    "    store_monthly_sales_obj.current_date_datetime = datetime.strptime(store_monthly_sales_obj.current_date, '%m/%d/%y')\n",
    "    store_monthly_sales_obj.current_month = store_monthly_sales_obj.current_date_datetime.month\n",
    "    \n",
    "    if current_month == None:\n",
    "        current_month = store_monthly_sales_obj.current_month\n",
    "        store_monthly_sales_obj.timestamp_components_number += 1\n",
    "        store_monthly_sales_obj.timestamp_component_sales_array.append(raw_csv[raw_date][idx])\n",
    "        continue\n",
    "        \n",
    "    else:\n",
    "        current_date_string = raw_date[:space_idx]\n",
    "        current_month = datetime.strptime(current_date_string, '%m/%d/%y').month\n",
    "        \n",
    "        if current_month\n",
    "        \n",
    "        "
   ]
  },
  {
   "cell_type": "code",
   "execution_count": 87,
   "metadata": {
    "collapsed": true
   },
   "outputs": [
    {
     "name": "stdout",
     "output_type": "stream",
     "text": [
      "Collecting scipy\n",
      "  Downloading scipy-1.0.0-cp27-cp27m-macosx_10_6_intel.macosx_10_9_intel.macosx_10_9_x86_64.macosx_10_10_intel.macosx_10_10_x86_64.whl (16.8MB)\n",
      "\u001b[K    100% |████████████████████████████████| 16.8MB 68kB/s  eta 0:00:01\n",
      "\u001b[?25hRequirement already satisfied: numpy>=1.8.2 in /Users/admin/Work/py/pymote/lib/python2.7/site-packages (from scipy)\n",
      "Installing collected packages: scipy\n",
      "Successfully installed scipy-1.0.0\n",
      "Requirement already satisfied: NumPy in /Users/admin/Work/py/pymote/lib/python2.7/site-packages\n",
      "Collecting Matplotlib\n",
      "  Downloading matplotlib-2.1.0-cp27-cp27m-macosx_10_6_intel.macosx_10_9_intel.macosx_10_9_x86_64.macosx_10_10_intel.macosx_10_10_x86_64.whl (13.2MB)\n",
      "\u001b[K    100% |████████████████████████████████| 13.2MB 92kB/s  eta 0:00:01\n",
      "\u001b[?25hRequirement already satisfied: pytz in /Users/admin/Work/py/pymote/lib/python2.7/site-packages (from Matplotlib)\n",
      "Requirement already satisfied: six>=1.10 in /Users/admin/Work/py/pymote/lib/python2.7/site-packages (from Matplotlib)\n",
      "Collecting backports.functools-lru-cache (from Matplotlib)\n",
      "  Downloading backports.functools_lru_cache-1.4-py2.py3-none-any.whl\n",
      "Collecting pyparsing!=2.0.4,!=2.1.2,!=2.1.6,>=2.0.1 (from Matplotlib)\n",
      "  Downloading pyparsing-2.2.0-py2.py3-none-any.whl (56kB)\n",
      "\u001b[K    100% |████████████████████████████████| 61kB 7.0MB/s eta 0:00:01\n",
      "\u001b[?25hRequirement already satisfied: numpy>=1.7.1 in /Users/admin/Work/py/pymote/lib/python2.7/site-packages (from Matplotlib)\n",
      "Requirement already satisfied: python-dateutil>=2.0 in /Users/admin/Work/py/pymote/lib/python2.7/site-packages (from Matplotlib)\n",
      "Collecting cycler>=0.10 (from Matplotlib)\n",
      "  Downloading cycler-0.10.0-py2.py3-none-any.whl\n",
      "Collecting subprocess32 (from Matplotlib)\n",
      "  Downloading subprocess32-3.2.7.tar.gz (54kB)\n",
      "\u001b[K    100% |████████████████████████████████| 61kB 8.2MB/s eta 0:00:01\n",
      "\u001b[?25hBuilding wheels for collected packages: subprocess32\n",
      "  Running setup.py bdist_wheel for subprocess32 ... \u001b[?25ldone\n",
      "\u001b[?25h  Stored in directory: /Users/admin/Library/Caches/pip/wheels/7d/4c/a4/ce9ceb463dae01f4b95e670abd9afc8d65a45f38012f8030cc\n",
      "Successfully built subprocess32\n",
      "Installing collected packages: backports.functools-lru-cache, pyparsing, cycler, subprocess32, Matplotlib\n",
      "Successfully installed Matplotlib-2.1.0 backports.functools-lru-cache-1.4 cycler-0.10.0 pyparsing-2.2.0 subprocess32-3.2.7\n",
      "Collecting scikit-learn\n",
      "  Downloading scikit_learn-0.19.1-cp27-cp27m-macosx_10_6_intel.macosx_10_9_intel.macosx_10_9_x86_64.macosx_10_10_intel.macosx_10_10_x86_64.whl (8.0MB)\n",
      "\u001b[K    100% |████████████████████████████████| 8.0MB 152kB/s eta 0:00:01\n",
      "\u001b[?25hInstalling collected packages: scikit-learn\n",
      "Successfully installed scikit-learn-0.19.1\n",
      "Collecting statsmodels\n",
      "  Downloading statsmodels-0.8.0-cp27-cp27m-macosx_10_6_intel.macosx_10_9_intel.macosx_10_9_x86_64.macosx_10_10_intel.macosx_10_10_x86_64.whl (5.4MB)\n",
      "\u001b[K    100% |████████████████████████████████| 5.4MB 215kB/s eta 0:00:01\n",
      "\u001b[?25hRequirement already satisfied: scipy in /Users/admin/Work/py/pymote/lib/python2.7/site-packages (from statsmodels)\n",
      "Requirement already satisfied: pandas in /Users/admin/Work/py/pymote/lib/python2.7/site-packages (from statsmodels)\n",
      "Collecting patsy (from statsmodels)\n",
      "  Downloading patsy-0.4.1-py2.py3-none-any.whl (233kB)\n",
      "\u001b[K    100% |████████████████████████████████| 235kB 4.6MB/s eta 0:00:01\n",
      "\u001b[?25hRequirement already satisfied: numpy>=1.8.2 in /Users/admin/Work/py/pymote/lib/python2.7/site-packages (from scipy->statsmodels)\n",
      "Requirement already satisfied: pytz>=2011k in /Users/admin/Work/py/pymote/lib/python2.7/site-packages (from pandas->statsmodels)\n",
      "Requirement already satisfied: python-dateutil in /Users/admin/Work/py/pymote/lib/python2.7/site-packages (from pandas->statsmodels)\n",
      "Requirement already satisfied: six in /Users/admin/Work/py/pymote/lib/python2.7/site-packages (from patsy->statsmodels)\n",
      "Installing collected packages: patsy, statsmodels\n",
      "Successfully installed patsy-0.4.1 statsmodels-0.8.0\n"
     ]
    }
   ],
   "source": [
    "# !which python\n",
    "# !pip install pandas\n",
    "# !pip install scipy\n",
    "# !pip install NumPy\n",
    "# !pip install Matplotlib\n",
    "# !pip install scikit-learn\n",
    "# !pip install statsmodels"
   ]
  },
  {
   "cell_type": "code",
   "execution_count": null,
   "metadata": {},
   "outputs": [],
   "source": [
    "import pandas as pd\n",
    "raw_csv = pd.read_csv('sales_granular.csv', index_col=0)"
   ]
  },
  {
   "cell_type": "code",
   "execution_count": null,
   "metadata": {},
   "outputs": [],
   "source": [
    "raw_csv[:25]\n",
    "raw_csv.count()\n",
    "raw_csv.index"
   ]
  },
  {
   "cell_type": "code",
   "execution_count": null,
   "metadata": {},
   "outputs": [],
   "source": [
    "# 11936 columns \n",
    "# 906 rows (stores)"
   ]
  },
  {
   "cell_type": "code",
   "execution_count": null,
   "metadata": {},
   "outputs": [],
   "source": [
    "# has 546 elements in json\n",
    "len(raw)"
   ]
  },
  {
   "cell_type": "code",
   "execution_count": null,
   "metadata": {},
   "outputs": [],
   "source": [
    "raw[1].keys()"
   ]
  },
  {
   "cell_type": "code",
   "execution_count": null,
   "metadata": {},
   "outputs": [],
   "source": [
    "print(len(list(raw_csv.index)))\n",
    "print(len(tuple(raw_csv.index)))"
   ]
  },
  {
   "cell_type": "code",
   "execution_count": 48,
   "metadata": {},
   "outputs": [
    {
     "data": {
      "text/plain": [
       "[u'surroundings', u'store_code']"
      ]
     },
     "execution_count": 48,
     "metadata": {},
     "output_type": "execute_result"
    }
   ],
   "source": [
    "raw[0].keys()"
   ]
  },
  {
   "cell_type": "code",
   "execution_count": 58,
   "metadata": {
    "scrolled": false
   },
   "outputs": [
    {
     "data": {
      "text/plain": [
       "'rating'"
      ]
     },
     "execution_count": 58,
     "metadata": {},
     "output_type": "execute_result"
    }
   ],
   "source": [
    "raw[2]['surroundings']['beauty_salon'][3].keys()[0].encode('utf-8')"
   ]
  },
  {
   "cell_type": "code",
   "execution_count": 71,
   "metadata": {},
   "outputs": [],
   "source": [
    "with open('extract.json', 'w') as outfile:\n",
    "    json.dump(raw[0], outfile)"
   ]
  },
  {
   "cell_type": "code",
   "execution_count": 84,
   "metadata": {
    "collapsed": true
   },
   "outputs": [
    {
     "name": "stdout",
     "output_type": "stream",
     "text": [
      "subway_station\n",
      "department_store\n",
      "embassy\n",
      "beauty_salon\n",
      "police\n",
      "courthouse\n",
      "cemetery\n",
      "pharmacy\n",
      "local_government_office\n",
      "shopping_mall\n",
      "city_hall\n",
      "rv_park\n",
      "shoe_store\n",
      "bank\n",
      "bowling_alley\n",
      "bar\n",
      "university\n",
      "car_dealer\n",
      "taxi_stand\n",
      "fire_station\n",
      "church\n",
      "convenience_store\n",
      "campground\n",
      "lawyer\n",
      "parking\n",
      "post_office\n",
      "hindu_temple\n",
      "hardware_store\n",
      "meal_takeaway\n",
      "movie_rental\n",
      "gas_station\n",
      "funeral_home\n",
      "aquarium\n",
      "restaurant\n",
      "home_goods_store\n",
      "atm\n",
      "veterinary_care\n",
      "airport\n",
      "locksmith\n",
      "bus_station\n",
      "hospital\n",
      "night_club\n",
      "electrician\n",
      "mosque\n",
      "amusement_park\n",
      "lodging\n",
      "florist\n",
      "liquor_store\n",
      "museum\n",
      "car_rental\n",
      "stadium\n",
      "store\n",
      "hair_care\n",
      "transit_station\n",
      "meal_delivery\n",
      "gym\n",
      "park\n",
      "dentist\n",
      "library\n",
      "book_store\n",
      "painter\n",
      "roofing_contractor\n",
      "moving_company\n",
      "clothing_store\n",
      "furniture_store\n",
      "physiotherapist\n",
      "casino\n",
      "art_gallery\n",
      "car_wash\n",
      "movie_theater\n",
      "spa\n",
      "accounting\n",
      "cafe\n",
      "car_repair\n",
      "synagogue\n",
      "real_estate_agency\n",
      "electronics_store\n",
      "doctor\n",
      "bicycle_store\n",
      "storage\n",
      "zoo\n",
      "train_station\n",
      "jewelry_store\n",
      "laundry\n",
      "insurance_agency\n",
      "plumber\n",
      "pet_store\n",
      "bakery\n",
      "travel_agency\n"
     ]
    }
   ],
   "source": [
    "for surr_type in raw[2]['surroundings'].keys():\n",
    "    print(surr_type.encode('utf8'))"
   ]
  },
  {
   "cell_type": "code",
   "execution_count": 89,
   "metadata": {},
   "outputs": [
    {
     "data": {
      "text/plain": [
       "5"
      ]
     },
     "execution_count": 89,
     "metadata": {},
     "output_type": "execute_result"
    }
   ],
   "source": [
    "train = [1,2,3,4,5]\n",
    "history = [x for x in train]\n",
    "history[-1]\n"
   ]
  },
  {
   "cell_type": "code",
   "execution_count": 95,
   "metadata": {},
   "outputs": [
    {
     "data": {
      "text/plain": [
       "11936"
      ]
     },
     "execution_count": 95,
     "metadata": {},
     "output_type": "execute_result"
    }
   ],
   "source": [
    "len(list(raw_csv))"
   ]
  },
  {
   "cell_type": "code",
   "execution_count": 118,
   "metadata": {
    "collapsed": true
   },
   "outputs": [
    {
     "name": "stdout",
     "output_type": "stream",
     "text": [
      "3/1/16 6:00\n",
      "3/1/16 7:00\n",
      "3/1/16 8:00\n",
      "3/1/16 9:00\n",
      "3/1/16 10:00\n",
      "3/1/16 11:00\n",
      "3/1/16 12:00\n",
      "3/1/16 13:00\n",
      "3/1/16 14:00\n",
      "3/1/16 15:00\n",
      "3/1/16 16:00\n",
      "3/1/16 17:00\n",
      "3/1/16 18:00\n",
      "3/1/16 19:00\n",
      "3/1/16 20:00\n",
      "3/1/16 21:00\n",
      "3/1/16 22:00\n",
      "3/1/16 23:00\n",
      "3/2/16 6:00\n",
      "3/2/16 7:00\n",
      "3/2/16 8:00\n",
      "3/2/16 9:00\n",
      "3/2/16 10:00\n",
      "3/2/16 11:00\n",
      "3/2/16 12:00\n",
      "3/2/16 13:00\n",
      "3/2/16 14:00\n",
      "3/2/16 15:00\n",
      "3/2/16 16:00\n",
      "3/2/16 17:00\n",
      "3/2/16 18:00\n",
      "3/2/16 19:00\n",
      "3/2/16 20:00\n",
      "3/2/16 21:00\n",
      "3/2/16 22:00\n",
      "3/3/16 5:00\n",
      "3/3/16 6:00\n",
      "3/3/16 7:00\n",
      "3/3/16 8:00\n",
      "3/3/16 9:00\n",
      "3/3/16 10:00\n",
      "3/3/16 11:00\n",
      "3/3/16 12:00\n",
      "3/3/16 13:00\n",
      "3/3/16 14:00\n",
      "3/3/16 15:00\n",
      "3/3/16 16:00\n",
      "3/3/16 17:00\n",
      "3/3/16 18:00\n",
      "3/3/16 19:00\n",
      "3/3/16 20:00\n",
      "3/3/16 21:00\n",
      "3/3/16 22:00\n",
      "3/4/16 5:00\n",
      "3/4/16 6:00\n",
      "3/4/16 7:00\n",
      "3/4/16 8:00\n",
      "3/4/16 9:00\n",
      "3/4/16 10:00\n",
      "3/4/16 11:00\n",
      "3/4/16 12:00\n",
      "3/4/16 13:00\n",
      "3/4/16 14:00\n",
      "3/4/16 15:00\n",
      "3/4/16 16:00\n",
      "3/4/16 17:00\n",
      "3/4/16 18:00\n",
      "3/4/16 19:00\n",
      "3/4/16 20:00\n",
      "3/4/16 21:00\n",
      "3/4/16 22:00\n",
      "3/4/16 23:00\n",
      "3/5/16 5:00\n",
      "3/5/16 7:00\n",
      "3/5/16 8:00\n",
      "3/5/16 9:00\n",
      "3/5/16 10:00\n",
      "3/5/16 11:00\n",
      "3/5/16 12:00\n",
      "3/5/16 13:00\n",
      "3/5/16 14:00\n",
      "3/5/16 15:00\n",
      "3/5/16 16:00\n",
      "3/5/16 17:00\n",
      "3/5/16 18:00\n",
      "3/5/16 19:00\n",
      "3/5/16 20:00\n",
      "3/5/16 21:00\n",
      "3/6/16 7:00\n",
      "3/6/16 8:00\n",
      "3/6/16 9:00\n",
      "3/6/16 10:00\n",
      "3/6/16 11:00\n",
      "3/6/16 12:00\n",
      "3/6/16 13:00\n",
      "3/6/16 14:00\n",
      "3/6/16 15:00\n",
      "3/6/16 16:00\n",
      "3/6/16 17:00\n",
      "3/6/16 18:00\n",
      "3/6/16 19:00\n",
      "3/6/16 20:00\n",
      "3/6/16 21:00\n",
      "3/7/16 5:00\n",
      "3/7/16 6:00\n",
      "3/7/16 7:00\n",
      "3/7/16 8:00\n",
      "3/7/16 9:00\n",
      "3/7/16 10:00\n",
      "3/7/16 11:00\n",
      "3/7/16 12:00\n",
      "3/7/16 13:00\n",
      "3/7/16 14:00\n",
      "3/7/16 15:00\n",
      "3/7/16 16:00\n",
      "3/7/16 17:00\n",
      "3/7/16 18:00\n",
      "3/7/16 19:00\n",
      "3/7/16 20:00\n",
      "3/7/16 21:00\n",
      "3/7/16 22:00\n",
      "3/8/16 7:00\n",
      "3/8/16 8:00\n",
      "3/8/16 9:00\n",
      "3/8/16 10:00\n",
      "3/8/16 11:00\n",
      "3/8/16 12:00\n",
      "3/8/16 13:00\n",
      "3/8/16 14:00\n",
      "3/8/16 15:00\n",
      "3/8/16 16:00\n",
      "3/8/16 17:00\n",
      "3/8/16 18:00\n",
      "3/8/16 19:00\n",
      "3/8/16 20:00\n",
      "3/8/16 21:00\n",
      "3/8/16 22:00\n",
      "3/9/16 6:00\n",
      "3/9/16 7:00\n",
      "3/9/16 8:00\n",
      "3/9/16 9:00\n",
      "3/9/16 10:00\n",
      "3/9/16 11:00\n",
      "3/9/16 12:00\n",
      "3/9/16 13:00\n",
      "3/9/16 14:00\n",
      "3/9/16 15:00\n",
      "3/9/16 16:00\n",
      "3/9/16 17:00\n",
      "3/9/16 18:00\n",
      "3/9/16 19:00\n",
      "3/9/16 20:00\n",
      "3/9/16 21:00\n",
      "3/9/16 23:00\n"
     ]
    },
    {
     "data": {
      "text/plain": [
       "154"
      ]
     },
     "execution_count": 118,
     "metadata": {},
     "output_type": "execute_result"
    }
   ],
   "source": [
    "[x[0] for x in list(raw_csv)]\n",
    "obs_counter = 0\n",
    "for _, entries_per_month in enumerate(list(raw_csv)):\n",
    "    if entries_per_month[0] == '3' and entries_per_month[5] == '6' :\n",
    "        obs_counter += 1\n",
    "        print(entries_per_month)\n",
    "\n",
    "obs_counter\n",
    "\n"
   ]
  },
  {
   "cell_type": "code",
   "execution_count": 138,
   "metadata": {},
   "outputs": [
    {
     "data": {
      "text/plain": [
       "'8/10/15'"
      ]
     },
     "execution_count": 138,
     "metadata": {},
     "output_type": "execute_result"
    }
   ],
   "source": [
    "space_idx = list(raw_csv)[100].find(' ')\n",
    "date = list(raw_csv)[100][:space_idx]\n",
    "date"
   ]
  },
  {
   "cell_type": "code",
   "execution_count": 139,
   "metadata": {},
   "outputs": [
    {
     "name": "stdout",
     "output_type": "stream",
     "text": [
      "Collecting timestring\n",
      "  Downloading timestring-1.6.2.tar.gz\n",
      "Collecting pytz==2013b (from timestring)\n",
      "  Downloading pytz-2013b.tar.bz2 (199kB)\n",
      "\u001b[K    100% |████████████████████████████████| 204kB 3.8MB/s ta 0:00:011\n",
      "\u001b[?25hBuilding wheels for collected packages: timestring, pytz\n",
      "  Running setup.py bdist_wheel for timestring ... \u001b[?25ldone\n",
      "\u001b[?25h  Stored in directory: /Users/admin/Library/Caches/pip/wheels/e7/b1/ed/3d4af5e291317fece730287af21f5665d4ab8914baf35b231a\n",
      "  Running setup.py bdist_wheel for pytz ... \u001b[?25ldone\n",
      "\u001b[?25h  Stored in directory: /Users/admin/Library/Caches/pip/wheels/74/c2/e0/afa37db89f151c13e60a0fabfb304523dc7a6b398c19200094\n",
      "Successfully built timestring pytz\n",
      "Installing collected packages: pytz, timestring\n",
      "  Found existing installation: pytz 2017.3\n",
      "    Uninstalling pytz-2017.3:\n",
      "      Successfully uninstalled pytz-2017.3\n",
      "Successfully installed pytz-2013b0 timestring-1.6.2\n"
     ]
    }
   ],
   "source": [
    "!pip install timestring\n",
    "import timestring"
   ]
  },
  {
   "cell_type": "code",
   "execution_count": 146,
   "metadata": {},
   "outputs": [],
   "source": [
    "timestring.Date('25/12/2015')\n",
    "import time\n"
   ]
  },
  {
   "cell_type": "code",
   "execution_count": 148,
   "metadata": {},
   "outputs": [
    {
     "name": "stdout",
     "output_type": "stream",
     "text": [
      "Requirement already satisfied: datetime in /Users/admin/Work/py/pymote/lib/python2.7/site-packages\r\n",
      "Requirement already satisfied: pytz in /Users/admin/Work/py/pymote/lib/python2.7/site-packages (from datetime)\r\n",
      "Requirement already satisfied: zope.interface in /Users/admin/Work/py/pymote/lib/python2.7/site-packages (from datetime)\r\n",
      "Requirement already satisfied: setuptools in /Users/admin/Work/py/pymote/lib/python2.7/site-packages (from zope.interface->datetime)\r\n"
     ]
    }
   ],
   "source": [
    "!pip install datetime\n",
    "import datetime"
   ]
  },
  {
   "cell_type": "code",
   "execution_count": 157,
   "metadata": {},
   "outputs": [
    {
     "data": {
      "text/plain": [
       "datetime.datetime(2015, 12, 25, 0, 0)"
      ]
     },
     "execution_count": 157,
     "metadata": {},
     "output_type": "execute_result"
    }
   ],
   "source": [
    "from datetime import datetime\n",
    "datetime.strptime('12/25/15', '%m/%d/%y')"
   ]
  }
 ],
 "metadata": {
  "kernelspec": {
   "display_name": "Python 2",
   "language": "python",
   "name": "python2"
  },
  "language_info": {
   "codemirror_mode": {
    "name": "ipython",
    "version": 2
   },
   "file_extension": ".py",
   "mimetype": "text/x-python",
   "name": "python",
   "nbconvert_exporter": "python",
   "pygments_lexer": "ipython2",
   "version": "2.7.10"
  }
 },
 "nbformat": 4,
 "nbformat_minor": 2
}
